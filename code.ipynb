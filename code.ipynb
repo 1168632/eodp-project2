{
 "cells": [
  {
   "cell_type": "markdown",
   "metadata": {},
   "source": [
    "1.preprocessing"
   ]
  },
  {
   "cell_type": "code",
   "execution_count": 22,
   "metadata": {},
   "outputs": [],
   "source": [
    "import pandas as pd\n",
    "import matplotlib.pyplot as plt"
   ]
  },
  {
   "cell_type": "code",
   "execution_count": 23,
   "metadata": {},
   "outputs": [],
   "source": [
    "data1 = pd.read_csv(\"1.csv\")"
   ]
  },
  {
   "cell_type": "code",
   "execution_count": 24,
   "metadata": {},
   "outputs": [],
   "source": [
    "data2 = pd.read_csv(\"2.csv\")"
   ]
  },
  {
   "cell_type": "code",
   "execution_count": 25,
   "metadata": {},
   "outputs": [],
   "source": [
    "data3 = pd.read_csv(\"3.csv\")"
   ]
  },
  {
   "cell_type": "code",
   "execution_count": 26,
   "metadata": {},
   "outputs": [
    {
     "data": {
      "text/html": [
       "<div>\n",
       "<style scoped>\n",
       "    .dataframe tbody tr th:only-of-type {\n",
       "        vertical-align: middle;\n",
       "    }\n",
       "\n",
       "    .dataframe tbody tr th {\n",
       "        vertical-align: top;\n",
       "    }\n",
       "\n",
       "    .dataframe thead th {\n",
       "        text-align: right;\n",
       "    }\n",
       "</style>\n",
       "<table border=\"1\" class=\"dataframe\">\n",
       "  <thead>\n",
       "    <tr style=\"text-align: right;\">\n",
       "      <th></th>\n",
       "      <th>Unnamed: 0</th>\n",
       "      <th>Unnamed: 1</th>\n",
       "      <th>Males</th>\n",
       "      <th>Females</th>\n",
       "      <th>Persons</th>\n",
       "      <th>Unnamed: 5</th>\n",
       "      <th>Median age</th>\n",
       "      <th>Unnamed: 7</th>\n",
       "      <th>People aged 0 to 14 years</th>\n",
       "      <th>People aged 15 to 64 years</th>\n",
       "      <th>People aged 65 years and over</th>\n",
       "    </tr>\n",
       "  </thead>\n",
       "  <tbody>\n",
       "    <tr>\n",
       "      <th>0</th>\n",
       "      <td>20260</td>\n",
       "      <td>Ararat</td>\n",
       "      <td>6402</td>\n",
       "      <td>5563</td>\n",
       "      <td>11965</td>\n",
       "      <td>NaN</td>\n",
       "      <td>46.7</td>\n",
       "      <td>NaN</td>\n",
       "      <td>15.9</td>\n",
       "      <td>60.1</td>\n",
       "      <td>24.0</td>\n",
       "    </tr>\n",
       "    <tr>\n",
       "      <th>1</th>\n",
       "      <td>20570</td>\n",
       "      <td>Ballarat</td>\n",
       "      <td>53954</td>\n",
       "      <td>57407</td>\n",
       "      <td>111361</td>\n",
       "      <td>NaN</td>\n",
       "      <td>37.6</td>\n",
       "      <td>NaN</td>\n",
       "      <td>19.3</td>\n",
       "      <td>63.4</td>\n",
       "      <td>17.3</td>\n",
       "    </tr>\n",
       "    <tr>\n",
       "      <th>2</th>\n",
       "      <td>20660</td>\n",
       "      <td>Banyule</td>\n",
       "      <td>64571</td>\n",
       "      <td>67369</td>\n",
       "      <td>131940</td>\n",
       "      <td>NaN</td>\n",
       "      <td>39.6</td>\n",
       "      <td>NaN</td>\n",
       "      <td>18.2</td>\n",
       "      <td>63.8</td>\n",
       "      <td>18.0</td>\n",
       "    </tr>\n",
       "    <tr>\n",
       "      <th>3</th>\n",
       "      <td>20740</td>\n",
       "      <td>Bass Coast</td>\n",
       "      <td>18343</td>\n",
       "      <td>19102</td>\n",
       "      <td>37445</td>\n",
       "      <td>NaN</td>\n",
       "      <td>49.7</td>\n",
       "      <td>NaN</td>\n",
       "      <td>16.3</td>\n",
       "      <td>55.7</td>\n",
       "      <td>28.0</td>\n",
       "    </tr>\n",
       "    <tr>\n",
       "      <th>4</th>\n",
       "      <td>20830</td>\n",
       "      <td>Baw Baw</td>\n",
       "      <td>26779</td>\n",
       "      <td>28105</td>\n",
       "      <td>54884</td>\n",
       "      <td>NaN</td>\n",
       "      <td>40.7</td>\n",
       "      <td>NaN</td>\n",
       "      <td>19.7</td>\n",
       "      <td>60.5</td>\n",
       "      <td>19.9</td>\n",
       "    </tr>\n",
       "    <tr>\n",
       "      <th>...</th>\n",
       "      <td>...</td>\n",
       "      <td>...</td>\n",
       "      <td>...</td>\n",
       "      <td>...</td>\n",
       "      <td>...</td>\n",
       "      <td>...</td>\n",
       "      <td>...</td>\n",
       "      <td>...</td>\n",
       "      <td>...</td>\n",
       "      <td>...</td>\n",
       "      <td>...</td>\n",
       "    </tr>\n",
       "    <tr>\n",
       "      <th>73</th>\n",
       "      <td>27170</td>\n",
       "      <td>Wodonga</td>\n",
       "      <td>20954</td>\n",
       "      <td>21708</td>\n",
       "      <td>42662</td>\n",
       "      <td>NaN</td>\n",
       "      <td>36.0</td>\n",
       "      <td>NaN</td>\n",
       "      <td>21.1</td>\n",
       "      <td>63.2</td>\n",
       "      <td>15.8</td>\n",
       "    </tr>\n",
       "    <tr>\n",
       "      <th>74</th>\n",
       "      <td>27260</td>\n",
       "      <td>Wyndham</td>\n",
       "      <td>142957</td>\n",
       "      <td>140337</td>\n",
       "      <td>283294</td>\n",
       "      <td>NaN</td>\n",
       "      <td>33.0</td>\n",
       "      <td>NaN</td>\n",
       "      <td>25.7</td>\n",
       "      <td>66.3</td>\n",
       "      <td>8.0</td>\n",
       "    </tr>\n",
       "    <tr>\n",
       "      <th>75</th>\n",
       "      <td>27350</td>\n",
       "      <td>Yarra</td>\n",
       "      <td>51055</td>\n",
       "      <td>52070</td>\n",
       "      <td>103125</td>\n",
       "      <td>NaN</td>\n",
       "      <td>34.1</td>\n",
       "      <td>NaN</td>\n",
       "      <td>10.7</td>\n",
       "      <td>77.9</td>\n",
       "      <td>11.3</td>\n",
       "    </tr>\n",
       "    <tr>\n",
       "      <th>76</th>\n",
       "      <td>27450</td>\n",
       "      <td>Yarra Ranges</td>\n",
       "      <td>79388</td>\n",
       "      <td>80567</td>\n",
       "      <td>159955</td>\n",
       "      <td>NaN</td>\n",
       "      <td>39.6</td>\n",
       "      <td>NaN</td>\n",
       "      <td>18.9</td>\n",
       "      <td>64.5</td>\n",
       "      <td>16.6</td>\n",
       "    </tr>\n",
       "    <tr>\n",
       "      <th>77</th>\n",
       "      <td>27630</td>\n",
       "      <td>Yarriambiack</td>\n",
       "      <td>3421</td>\n",
       "      <td>3167</td>\n",
       "      <td>6588</td>\n",
       "      <td>NaN</td>\n",
       "      <td>51.2</td>\n",
       "      <td>NaN</td>\n",
       "      <td>16.8</td>\n",
       "      <td>55.7</td>\n",
       "      <td>27.6</td>\n",
       "    </tr>\n",
       "  </tbody>\n",
       "</table>\n",
       "<p>78 rows × 11 columns</p>\n",
       "</div>"
      ],
      "text/plain": [
       "    Unnamed: 0     Unnamed: 1   Males  Females  Persons  Unnamed: 5  \\\n",
       "0        20260        Ararat     6402     5563    11965         NaN   \n",
       "1        20570      Ballarat    53954    57407   111361         NaN   \n",
       "2        20660       Banyule    64571    67369   131940         NaN   \n",
       "3        20740    Bass Coast    18343    19102    37445         NaN   \n",
       "4        20830       Baw Baw    26779    28105    54884         NaN   \n",
       "..         ...            ...     ...      ...      ...         ...   \n",
       "73       27170       Wodonga    20954    21708    42662         NaN   \n",
       "74       27260       Wyndham   142957   140337   283294         NaN   \n",
       "75       27350         Yarra    51055    52070   103125         NaN   \n",
       "76       27450  Yarra Ranges    79388    80567   159955         NaN   \n",
       "77       27630   Yarriambiack    3421     3167     6588         NaN   \n",
       "\n",
       "    Median age  Unnamed: 7  People aged 0 to 14 years  \\\n",
       "0         46.7         NaN                       15.9   \n",
       "1         37.6         NaN                       19.3   \n",
       "2         39.6         NaN                       18.2   \n",
       "3         49.7         NaN                       16.3   \n",
       "4         40.7         NaN                       19.7   \n",
       "..         ...         ...                        ...   \n",
       "73        36.0         NaN                       21.1   \n",
       "74        33.0         NaN                       25.7   \n",
       "75        34.1         NaN                       10.7   \n",
       "76        39.6         NaN                       18.9   \n",
       "77        51.2         NaN                       16.8   \n",
       "\n",
       "    People aged 15 to 64 years  People aged 65 years and over  \n",
       "0                         60.1                           24.0  \n",
       "1                         63.4                           17.3  \n",
       "2                         63.8                           18.0  \n",
       "3                         55.7                           28.0  \n",
       "4                         60.5                           19.9  \n",
       "..                         ...                            ...  \n",
       "73                        63.2                           15.8  \n",
       "74                        66.3                            8.0  \n",
       "75                        77.9                           11.3  \n",
       "76                        64.5                           16.6  \n",
       "77                        55.7                           27.6  \n",
       "\n",
       "[78 rows x 11 columns]"
      ]
     },
     "execution_count": 26,
     "metadata": {},
     "output_type": "execute_result"
    }
   ],
   "source": [
    "data1\n"
   ]
  },
  {
   "cell_type": "code",
   "execution_count": 27,
   "metadata": {},
   "outputs": [
    {
     "data": {
      "text/html": [
       "<div>\n",
       "<style scoped>\n",
       "    .dataframe tbody tr th:only-of-type {\n",
       "        vertical-align: middle;\n",
       "    }\n",
       "\n",
       "    .dataframe tbody tr th {\n",
       "        vertical-align: top;\n",
       "    }\n",
       "\n",
       "    .dataframe thead th {\n",
       "        text-align: right;\n",
       "    }\n",
       "</style>\n",
       "<table border=\"1\" class=\"dataframe\">\n",
       "  <thead>\n",
       "    <tr style=\"text-align: right;\">\n",
       "      <th></th>\n",
       "      <th>LGA Name</th>\n",
       "      <th>Final Dispatch Code</th>\n",
       "      <th>Unnamed: 2</th>\n",
       "      <th>AVG RT - Seconds</th>\n",
       "      <th>Total Number</th>\n",
       "    </tr>\n",
       "  </thead>\n",
       "  <tbody>\n",
       "    <tr>\n",
       "      <th>0</th>\n",
       "      <td>Ararat</td>\n",
       "      <td>Code 2</td>\n",
       "      <td>NaN</td>\n",
       "      <td>1495</td>\n",
       "      <td>529</td>\n",
       "    </tr>\n",
       "    <tr>\n",
       "      <th>1</th>\n",
       "      <td>Ballarat</td>\n",
       "      <td>Code 2</td>\n",
       "      <td>NaN</td>\n",
       "      <td>1301</td>\n",
       "      <td>4301</td>\n",
       "    </tr>\n",
       "    <tr>\n",
       "      <th>2</th>\n",
       "      <td>Banyule</td>\n",
       "      <td>Code 2</td>\n",
       "      <td>NaN</td>\n",
       "      <td>1337</td>\n",
       "      <td>3972</td>\n",
       "    </tr>\n",
       "    <tr>\n",
       "      <th>3</th>\n",
       "      <td>Bass Coast</td>\n",
       "      <td>Code 2</td>\n",
       "      <td>NaN</td>\n",
       "      <td>1619</td>\n",
       "      <td>1983</td>\n",
       "    </tr>\n",
       "    <tr>\n",
       "      <th>4</th>\n",
       "      <td>Baw Baw</td>\n",
       "      <td>Code 2</td>\n",
       "      <td>NaN</td>\n",
       "      <td>1455</td>\n",
       "      <td>2045</td>\n",
       "    </tr>\n",
       "    <tr>\n",
       "      <th>...</th>\n",
       "      <td>...</td>\n",
       "      <td>...</td>\n",
       "      <td>...</td>\n",
       "      <td>...</td>\n",
       "      <td>...</td>\n",
       "    </tr>\n",
       "    <tr>\n",
       "      <th>73</th>\n",
       "      <td>Wodonga</td>\n",
       "      <td>Code 2</td>\n",
       "      <td>NaN</td>\n",
       "      <td>1380</td>\n",
       "      <td>1561</td>\n",
       "    </tr>\n",
       "    <tr>\n",
       "      <th>74</th>\n",
       "      <td>Wyndham</td>\n",
       "      <td>Code 2</td>\n",
       "      <td>NaN</td>\n",
       "      <td>1277</td>\n",
       "      <td>6012</td>\n",
       "    </tr>\n",
       "    <tr>\n",
       "      <th>75</th>\n",
       "      <td>Yarra</td>\n",
       "      <td>Code 2</td>\n",
       "      <td>NaN</td>\n",
       "      <td>1356</td>\n",
       "      <td>3445</td>\n",
       "    </tr>\n",
       "    <tr>\n",
       "      <th>76</th>\n",
       "      <td>Yarra Ranges</td>\n",
       "      <td>Code 2</td>\n",
       "      <td>NaN</td>\n",
       "      <td>1202</td>\n",
       "      <td>4719</td>\n",
       "    </tr>\n",
       "    <tr>\n",
       "      <th>77</th>\n",
       "      <td>Yarriambiack</td>\n",
       "      <td>Code 2</td>\n",
       "      <td>NaN</td>\n",
       "      <td>2004</td>\n",
       "      <td>273</td>\n",
       "    </tr>\n",
       "  </tbody>\n",
       "</table>\n",
       "<p>78 rows × 5 columns</p>\n",
       "</div>"
      ],
      "text/plain": [
       "        LGA Name Final Dispatch Code  Unnamed: 2  AVG RT - Seconds  \\\n",
       "0         Ararat              Code 2         NaN              1495   \n",
       "1       Ballarat              Code 2         NaN              1301   \n",
       "2        Banyule              Code 2         NaN              1337   \n",
       "3     Bass Coast              Code 2         NaN              1619   \n",
       "4        Baw Baw              Code 2         NaN              1455   \n",
       "..           ...                 ...         ...               ...   \n",
       "73       Wodonga              Code 2         NaN              1380   \n",
       "74       Wyndham              Code 2         NaN              1277   \n",
       "75         Yarra              Code 2         NaN              1356   \n",
       "76  Yarra Ranges              Code 2         NaN              1202   \n",
       "77  Yarriambiack              Code 2         NaN              2004   \n",
       "\n",
       "    Total Number  \n",
       "0            529  \n",
       "1           4301  \n",
       "2           3972  \n",
       "3           1983  \n",
       "4           2045  \n",
       "..           ...  \n",
       "73          1561  \n",
       "74          6012  \n",
       "75          3445  \n",
       "76          4719  \n",
       "77           273  \n",
       "\n",
       "[78 rows x 5 columns]"
      ]
     },
     "execution_count": 27,
     "metadata": {},
     "output_type": "execute_result"
    }
   ],
   "source": [
    "data2"
   ]
  },
  {
   "cell_type": "code",
   "execution_count": 28,
   "metadata": {},
   "outputs": [
    {
     "data": {
      "text/html": [
       "<div>\n",
       "<style scoped>\n",
       "    .dataframe tbody tr th:only-of-type {\n",
       "        vertical-align: middle;\n",
       "    }\n",
       "\n",
       "    .dataframe tbody tr th {\n",
       "        vertical-align: top;\n",
       "    }\n",
       "\n",
       "    .dataframe thead th {\n",
       "        text-align: right;\n",
       "    }\n",
       "</style>\n",
       "<table border=\"1\" class=\"dataframe\">\n",
       "  <thead>\n",
       "    <tr style=\"text-align: right;\">\n",
       "      <th></th>\n",
       "      <th>ppl_receiving_disability_servs_sup_per_1000_pop_rank</th>\n",
       "      <th>lga_name</th>\n",
       "      <th>lga_code</th>\n",
       "      <th>ppl_aged_over_65_yrs_with_prfnd_disability_in_the_cmty_perc</th>\n",
       "      <th>males</th>\n",
       "      <th>females</th>\n",
       "    </tr>\n",
       "  </thead>\n",
       "  <tbody>\n",
       "    <tr>\n",
       "      <th>0</th>\n",
       "      <td>4</td>\n",
       "      <td>Ararat</td>\n",
       "      <td>20260</td>\n",
       "      <td>11.5</td>\n",
       "      <td>14.9</td>\n",
       "      <td>12.8</td>\n",
       "    </tr>\n",
       "    <tr>\n",
       "      <th>1</th>\n",
       "      <td>10</td>\n",
       "      <td>Ballarat</td>\n",
       "      <td>20570</td>\n",
       "      <td>13.0</td>\n",
       "      <td>11.4</td>\n",
       "      <td>13.2</td>\n",
       "    </tr>\n",
       "    <tr>\n",
       "      <th>2</th>\n",
       "      <td>31</td>\n",
       "      <td>Banyule</td>\n",
       "      <td>20660</td>\n",
       "      <td>13.0</td>\n",
       "      <td>21.7</td>\n",
       "      <td>12.7</td>\n",
       "    </tr>\n",
       "    <tr>\n",
       "      <th>3</th>\n",
       "      <td>33</td>\n",
       "      <td>Bass Coast</td>\n",
       "      <td>20740</td>\n",
       "      <td>11.4</td>\n",
       "      <td>18.2</td>\n",
       "      <td>16.8</td>\n",
       "    </tr>\n",
       "    <tr>\n",
       "      <th>4</th>\n",
       "      <td>18</td>\n",
       "      <td>Baw Baw</td>\n",
       "      <td>20830</td>\n",
       "      <td>11.0</td>\n",
       "      <td>11.5</td>\n",
       "      <td>14.5</td>\n",
       "    </tr>\n",
       "    <tr>\n",
       "      <th>...</th>\n",
       "      <td>...</td>\n",
       "      <td>...</td>\n",
       "      <td>...</td>\n",
       "      <td>...</td>\n",
       "      <td>...</td>\n",
       "      <td>...</td>\n",
       "    </tr>\n",
       "    <tr>\n",
       "      <th>73</th>\n",
       "      <td>9</td>\n",
       "      <td>Wodonga</td>\n",
       "      <td>27170</td>\n",
       "      <td>13.7</td>\n",
       "      <td>11.6</td>\n",
       "      <td>12.6</td>\n",
       "    </tr>\n",
       "    <tr>\n",
       "      <th>74</th>\n",
       "      <td>77</td>\n",
       "      <td>Wyndham</td>\n",
       "      <td>27260</td>\n",
       "      <td>16.8</td>\n",
       "      <td>21.4</td>\n",
       "      <td>13.6</td>\n",
       "    </tr>\n",
       "    <tr>\n",
       "      <th>75</th>\n",
       "      <td>59</td>\n",
       "      <td>Yarra</td>\n",
       "      <td>27350</td>\n",
       "      <td>19.4</td>\n",
       "      <td>15.3</td>\n",
       "      <td>13.7</td>\n",
       "    </tr>\n",
       "    <tr>\n",
       "      <th>76</th>\n",
       "      <td>41</td>\n",
       "      <td>Yarra Ranges</td>\n",
       "      <td>27450</td>\n",
       "      <td>10.6</td>\n",
       "      <td>16.0</td>\n",
       "      <td>12.9</td>\n",
       "    </tr>\n",
       "    <tr>\n",
       "      <th>77</th>\n",
       "      <td>3</td>\n",
       "      <td>Yarriambiack</td>\n",
       "      <td>27630</td>\n",
       "      <td>11.5</td>\n",
       "      <td>30.0</td>\n",
       "      <td>24.3</td>\n",
       "    </tr>\n",
       "  </tbody>\n",
       "</table>\n",
       "<p>78 rows × 6 columns</p>\n",
       "</div>"
      ],
      "text/plain": [
       "    ppl_receiving_disability_servs_sup_per_1000_pop_rank       lga_name  \\\n",
       "0                                                   4           Ararat    \n",
       "1                                                  10         Ballarat    \n",
       "2                                                  31          Banyule    \n",
       "3                                                  33       Bass Coast    \n",
       "4                                                  18          Baw Baw    \n",
       "..                                                ...               ...   \n",
       "73                                                  9          Wodonga    \n",
       "74                                                 77          Wyndham    \n",
       "75                                                 59            Yarra    \n",
       "76                                                 41     Yarra Ranges    \n",
       "77                                                  3     Yarriambiack    \n",
       "\n",
       "     lga_code   ppl_aged_over_65_yrs_with_prfnd_disability_in_the_cmty_perc  \\\n",
       "0       20260                                               11.5              \n",
       "1       20570                                               13.0              \n",
       "2       20660                                               13.0              \n",
       "3       20740                                               11.4              \n",
       "4       20830                                               11.0              \n",
       "..        ...                                                ...              \n",
       "73      27170                                               13.7              \n",
       "74      27260                                               16.8              \n",
       "75      27350                                               19.4              \n",
       "76      27450                                               10.6              \n",
       "77      27630                                               11.5              \n",
       "\n",
       "    males  females  \n",
       "0    14.9     12.8  \n",
       "1    11.4     13.2  \n",
       "2    21.7     12.7  \n",
       "3    18.2     16.8  \n",
       "4    11.5     14.5  \n",
       "..    ...      ...  \n",
       "73   11.6     12.6  \n",
       "74   21.4     13.6  \n",
       "75   15.3     13.7  \n",
       "76   16.0     12.9  \n",
       "77   30.0     24.3  \n",
       "\n",
       "[78 rows x 6 columns]"
      ]
     },
     "execution_count": 28,
     "metadata": {},
     "output_type": "execute_result"
    }
   ],
   "source": [
    "data3\n"
   ]
  },
  {
   "cell_type": "code",
   "execution_count": 29,
   "metadata": {},
   "outputs": [],
   "source": [
    "import csv"
   ]
  },
  {
   "cell_type": "code",
   "execution_count": 30,
   "metadata": {},
   "outputs": [],
   "source": [
    "Area_name = []\n",
    "males = []\n",
    "females = []\n",
    "more_than_65 = []\n",
    "rt_second = []\n",
    "males_hls = []\n",
    "females_hls = []\n",
    "total_number = []\n",
    "i = 0\n",
    "while i < 77:\n",
    "    Area_name.append(data1[\"Unnamed: 1\"][i])\n",
    "    males.append(data1[\"Males\"][i])\n",
    "    females.append(data1[\"Females\"][i])\n",
    "    more_than_65.append(data1[\"People aged 65 years and over\"][i])\n",
    "    rt_second.append(data2[\"AVG RT - Seconds\"][i])\n",
    "    total_number.append(data2[\"Total Number\"][i])\n",
    "    males_hls.append(data3[\"males\"][i])\n",
    "    females_hls.append(data3[\"females\"][i])\n",
    "    i = i + 1"
   ]
  },
  {
   "cell_type": "code",
   "execution_count": 31,
   "metadata": {},
   "outputs": [],
   "source": [
    "unhealth_per = []\n",
    "population = []\n",
    "i = 0\n",
    "while i < 77:\n",
    "    population.append(males[i]+females[i])\n",
    "    unhealth_per.append((males[i]*males_hls[i]+females[i]*females_hls[i])/(males[i]+females[i]))\n",
    "    i = i + 1"
   ]
  },
  {
   "cell_type": "code",
   "execution_count": 32,
   "metadata": {},
   "outputs": [
    {
     "ename": "PermissionError",
     "evalue": "[Errno 13] Permission denied: '4.csv'",
     "output_type": "error",
     "traceback": [
      "\u001b[1;31m---------------------------------------------------------------------------\u001b[0m",
      "\u001b[1;31mPermissionError\u001b[0m                           Traceback (most recent call last)",
      "\u001b[1;32m~\\AppData\\Local\\Temp/ipykernel_19664/4101711375.py\u001b[0m in \u001b[0;36m<module>\u001b[1;34m\u001b[0m\n\u001b[0;32m      1\u001b[0m \u001b[0mfile\u001b[0m \u001b[1;33m=\u001b[0m \u001b[0mpd\u001b[0m\u001b[1;33m.\u001b[0m\u001b[0mDataFrame\u001b[0m\u001b[1;33m(\u001b[0m\u001b[1;33m{\u001b[0m\u001b[1;34m\"Area name\"\u001b[0m\u001b[1;33m:\u001b[0m\u001b[0mArea_name\u001b[0m\u001b[1;33m,\u001b[0m \u001b[1;34m\"Population\"\u001b[0m\u001b[1;33m:\u001b[0m\u001b[0mpopulation\u001b[0m\u001b[1;33m,\u001b[0m \u001b[1;34m\"People aged 65 years and over(perc)\"\u001b[0m\u001b[1;33m:\u001b[0m\u001b[0mmore_than_65\u001b[0m\u001b[1;33m,\u001b[0m \u001b[1;34m\"reaction time(second)\"\u001b[0m\u001b[1;33m:\u001b[0m\u001b[0mrt_second\u001b[0m\u001b[1;33m,\u001b[0m \u001b[1;34m\"number of calls\"\u001b[0m\u001b[1;33m:\u001b[0m\u001b[0mtotal_number\u001b[0m\u001b[1;33m,\u001b[0m \u001b[1;34m\"unhealthy people(perc)\"\u001b[0m\u001b[1;33m:\u001b[0m\u001b[0munhealth_per\u001b[0m \u001b[1;33m}\u001b[0m\u001b[1;33m)\u001b[0m\u001b[1;33m\u001b[0m\u001b[1;33m\u001b[0m\u001b[0m\n\u001b[1;32m----> 2\u001b[1;33m \u001b[0mfile\u001b[0m\u001b[1;33m.\u001b[0m\u001b[0mto_csv\u001b[0m\u001b[1;33m(\u001b[0m\u001b[1;34m\"4.csv\"\u001b[0m\u001b[1;33m)\u001b[0m\u001b[1;33m\u001b[0m\u001b[1;33m\u001b[0m\u001b[0m\n\u001b[0m",
      "\u001b[1;32m~\\AppData\\Local\\Programs\\Python\\Python39\\lib\\site-packages\\pandas\\core\\generic.py\u001b[0m in \u001b[0;36mto_csv\u001b[1;34m(self, path_or_buf, sep, na_rep, float_format, columns, header, index, index_label, mode, encoding, compression, quoting, quotechar, line_terminator, chunksize, date_format, doublequote, escapechar, decimal, errors, storage_options)\u001b[0m\n\u001b[0;32m   3464\u001b[0m         )\n\u001b[0;32m   3465\u001b[0m \u001b[1;33m\u001b[0m\u001b[0m\n\u001b[1;32m-> 3466\u001b[1;33m         return DataFrameRenderer(formatter).to_csv(\n\u001b[0m\u001b[0;32m   3467\u001b[0m             \u001b[0mpath_or_buf\u001b[0m\u001b[1;33m,\u001b[0m\u001b[1;33m\u001b[0m\u001b[1;33m\u001b[0m\u001b[0m\n\u001b[0;32m   3468\u001b[0m             \u001b[0mline_terminator\u001b[0m\u001b[1;33m=\u001b[0m\u001b[0mline_terminator\u001b[0m\u001b[1;33m,\u001b[0m\u001b[1;33m\u001b[0m\u001b[1;33m\u001b[0m\u001b[0m\n",
      "\u001b[1;32m~\\AppData\\Local\\Programs\\Python\\Python39\\lib\\site-packages\\pandas\\io\\formats\\format.py\u001b[0m in \u001b[0;36mto_csv\u001b[1;34m(self, path_or_buf, encoding, sep, columns, index_label, mode, compression, quoting, quotechar, line_terminator, chunksize, date_format, doublequote, escapechar, errors, storage_options)\u001b[0m\n\u001b[0;32m   1103\u001b[0m             \u001b[0mformatter\u001b[0m\u001b[1;33m=\u001b[0m\u001b[0mself\u001b[0m\u001b[1;33m.\u001b[0m\u001b[0mfmt\u001b[0m\u001b[1;33m,\u001b[0m\u001b[1;33m\u001b[0m\u001b[1;33m\u001b[0m\u001b[0m\n\u001b[0;32m   1104\u001b[0m         )\n\u001b[1;32m-> 1105\u001b[1;33m         \u001b[0mcsv_formatter\u001b[0m\u001b[1;33m.\u001b[0m\u001b[0msave\u001b[0m\u001b[1;33m(\u001b[0m\u001b[1;33m)\u001b[0m\u001b[1;33m\u001b[0m\u001b[1;33m\u001b[0m\u001b[0m\n\u001b[0m\u001b[0;32m   1106\u001b[0m \u001b[1;33m\u001b[0m\u001b[0m\n\u001b[0;32m   1107\u001b[0m         \u001b[1;32mif\u001b[0m \u001b[0mcreated_buffer\u001b[0m\u001b[1;33m:\u001b[0m\u001b[1;33m\u001b[0m\u001b[1;33m\u001b[0m\u001b[0m\n",
      "\u001b[1;32m~\\AppData\\Local\\Programs\\Python\\Python39\\lib\\site-packages\\pandas\\io\\formats\\csvs.py\u001b[0m in \u001b[0;36msave\u001b[1;34m(self)\u001b[0m\n\u001b[0;32m    235\u001b[0m         \"\"\"\n\u001b[0;32m    236\u001b[0m         \u001b[1;31m# apply compression and byte/text conversion\u001b[0m\u001b[1;33m\u001b[0m\u001b[1;33m\u001b[0m\u001b[0m\n\u001b[1;32m--> 237\u001b[1;33m         with get_handle(\n\u001b[0m\u001b[0;32m    238\u001b[0m             \u001b[0mself\u001b[0m\u001b[1;33m.\u001b[0m\u001b[0mfilepath_or_buffer\u001b[0m\u001b[1;33m,\u001b[0m\u001b[1;33m\u001b[0m\u001b[1;33m\u001b[0m\u001b[0m\n\u001b[0;32m    239\u001b[0m             \u001b[0mself\u001b[0m\u001b[1;33m.\u001b[0m\u001b[0mmode\u001b[0m\u001b[1;33m,\u001b[0m\u001b[1;33m\u001b[0m\u001b[1;33m\u001b[0m\u001b[0m\n",
      "\u001b[1;32m~\\AppData\\Local\\Programs\\Python\\Python39\\lib\\site-packages\\pandas\\io\\common.py\u001b[0m in \u001b[0;36mget_handle\u001b[1;34m(path_or_buf, mode, encoding, compression, memory_map, is_text, errors, storage_options)\u001b[0m\n\u001b[0;32m    699\u001b[0m         \u001b[1;32mif\u001b[0m \u001b[0mioargs\u001b[0m\u001b[1;33m.\u001b[0m\u001b[0mencoding\u001b[0m \u001b[1;32mand\u001b[0m \u001b[1;34m\"b\"\u001b[0m \u001b[1;32mnot\u001b[0m \u001b[1;32min\u001b[0m \u001b[0mioargs\u001b[0m\u001b[1;33m.\u001b[0m\u001b[0mmode\u001b[0m\u001b[1;33m:\u001b[0m\u001b[1;33m\u001b[0m\u001b[1;33m\u001b[0m\u001b[0m\n\u001b[0;32m    700\u001b[0m             \u001b[1;31m# Encoding\u001b[0m\u001b[1;33m\u001b[0m\u001b[1;33m\u001b[0m\u001b[0m\n\u001b[1;32m--> 701\u001b[1;33m             handle = open(\n\u001b[0m\u001b[0;32m    702\u001b[0m                 \u001b[0mhandle\u001b[0m\u001b[1;33m,\u001b[0m\u001b[1;33m\u001b[0m\u001b[1;33m\u001b[0m\u001b[0m\n\u001b[0;32m    703\u001b[0m                 \u001b[0mioargs\u001b[0m\u001b[1;33m.\u001b[0m\u001b[0mmode\u001b[0m\u001b[1;33m,\u001b[0m\u001b[1;33m\u001b[0m\u001b[1;33m\u001b[0m\u001b[0m\n",
      "\u001b[1;31mPermissionError\u001b[0m: [Errno 13] Permission denied: '4.csv'"
     ]
    }
   ],
   "source": [
    "file = pd.DataFrame({\"Area name\":Area_name, \"Population\":population, \"People aged 65 years and over(perc)\":more_than_65, \"reaction time(second)\":rt_second, \"number of calls\":total_number, \"unhealthy people(perc)\":unhealth_per })\n",
    "file.to_csv(\"4.csv\")"
   ]
  },
  {
   "cell_type": "markdown",
   "metadata": {},
   "source": [
    "2.analyzing"
   ]
  },
  {
   "cell_type": "code",
   "execution_count": 33,
   "metadata": {},
   "outputs": [],
   "source": [
    "import numpy as np"
   ]
  },
  {
   "cell_type": "code",
   "execution_count": 34,
   "metadata": {},
   "outputs": [],
   "source": [
    "def outlier(data_list):\n",
    "    rule = (data_list.mean() - 3 * data_list.std() > data_list) | (data_list.mean() + 3 * data_list.std() < data_list)\n",
    "    index = np.arange(data_list.shape[0])[rule]\n",
    "    outliers = data_list.iloc[index]\n",
    "    return outliers.tolist()"
   ]
  },
  {
   "cell_type": "code",
   "execution_count": 35,
   "metadata": {},
   "outputs": [
    {
     "data": {
      "text/html": [
       "<div>\n",
       "<style scoped>\n",
       "    .dataframe tbody tr th:only-of-type {\n",
       "        vertical-align: middle;\n",
       "    }\n",
       "\n",
       "    .dataframe tbody tr th {\n",
       "        vertical-align: top;\n",
       "    }\n",
       "\n",
       "    .dataframe thead th {\n",
       "        text-align: right;\n",
       "    }\n",
       "</style>\n",
       "<table border=\"1\" class=\"dataframe\">\n",
       "  <thead>\n",
       "    <tr style=\"text-align: right;\">\n",
       "      <th></th>\n",
       "      <th>Unnamed: 0</th>\n",
       "      <th>Area name</th>\n",
       "      <th>Population</th>\n",
       "      <th>People aged 65 years and over(perc)</th>\n",
       "      <th>reaction time(second)</th>\n",
       "      <th>number of calls</th>\n",
       "      <th>unhealthy people(perc)</th>\n",
       "    </tr>\n",
       "  </thead>\n",
       "  <tbody>\n",
       "    <tr>\n",
       "      <th>0</th>\n",
       "      <td>0</td>\n",
       "      <td>Ararat</td>\n",
       "      <td>11965</td>\n",
       "      <td>24.0</td>\n",
       "      <td>1495</td>\n",
       "      <td>529</td>\n",
       "      <td>13.923627</td>\n",
       "    </tr>\n",
       "    <tr>\n",
       "      <th>1</th>\n",
       "      <td>1</td>\n",
       "      <td>Ballarat</td>\n",
       "      <td>111361</td>\n",
       "      <td>17.3</td>\n",
       "      <td>1301</td>\n",
       "      <td>4301</td>\n",
       "      <td>12.327907</td>\n",
       "    </tr>\n",
       "    <tr>\n",
       "      <th>2</th>\n",
       "      <td>2</td>\n",
       "      <td>Banyule</td>\n",
       "      <td>131940</td>\n",
       "      <td>18.0</td>\n",
       "      <td>1337</td>\n",
       "      <td>3972</td>\n",
       "      <td>17.104570</td>\n",
       "    </tr>\n",
       "    <tr>\n",
       "      <th>3</th>\n",
       "      <td>3</td>\n",
       "      <td>Bass Coast</td>\n",
       "      <td>37445</td>\n",
       "      <td>28.0</td>\n",
       "      <td>1619</td>\n",
       "      <td>1983</td>\n",
       "      <td>17.485811</td>\n",
       "    </tr>\n",
       "    <tr>\n",
       "      <th>4</th>\n",
       "      <td>4</td>\n",
       "      <td>Baw Baw</td>\n",
       "      <td>54884</td>\n",
       "      <td>19.9</td>\n",
       "      <td>1455</td>\n",
       "      <td>2045</td>\n",
       "      <td>13.036240</td>\n",
       "    </tr>\n",
       "    <tr>\n",
       "      <th>...</th>\n",
       "      <td>...</td>\n",
       "      <td>...</td>\n",
       "      <td>...</td>\n",
       "      <td>...</td>\n",
       "      <td>...</td>\n",
       "      <td>...</td>\n",
       "      <td>...</td>\n",
       "    </tr>\n",
       "    <tr>\n",
       "      <th>72</th>\n",
       "      <td>72</td>\n",
       "      <td>Whittlesea</td>\n",
       "      <td>236539</td>\n",
       "      <td>12.1</td>\n",
       "      <td>1366</td>\n",
       "      <td>5835</td>\n",
       "      <td>22.555713</td>\n",
       "    </tr>\n",
       "    <tr>\n",
       "      <th>73</th>\n",
       "      <td>73</td>\n",
       "      <td>Wodonga</td>\n",
       "      <td>42662</td>\n",
       "      <td>15.8</td>\n",
       "      <td>1380</td>\n",
       "      <td>1561</td>\n",
       "      <td>12.108837</td>\n",
       "    </tr>\n",
       "    <tr>\n",
       "      <th>74</th>\n",
       "      <td>74</td>\n",
       "      <td>Wyndham</td>\n",
       "      <td>283294</td>\n",
       "      <td>8.0</td>\n",
       "      <td>1277</td>\n",
       "      <td>6012</td>\n",
       "      <td>17.536069</td>\n",
       "    </tr>\n",
       "    <tr>\n",
       "      <th>75</th>\n",
       "      <td>75</td>\n",
       "      <td>Yarra</td>\n",
       "      <td>103125</td>\n",
       "      <td>11.3</td>\n",
       "      <td>1356</td>\n",
       "      <td>3445</td>\n",
       "      <td>14.492126</td>\n",
       "    </tr>\n",
       "    <tr>\n",
       "      <th>76</th>\n",
       "      <td>76</td>\n",
       "      <td>Yarra Ranges</td>\n",
       "      <td>159955</td>\n",
       "      <td>16.6</td>\n",
       "      <td>1202</td>\n",
       "      <td>4719</td>\n",
       "      <td>14.438575</td>\n",
       "    </tr>\n",
       "  </tbody>\n",
       "</table>\n",
       "<p>77 rows × 7 columns</p>\n",
       "</div>"
      ],
      "text/plain": [
       "    Unnamed: 0      Area name  Population  \\\n",
       "0            0        Ararat        11965   \n",
       "1            1      Ballarat       111361   \n",
       "2            2       Banyule       131940   \n",
       "3            3    Bass Coast        37445   \n",
       "4            4       Baw Baw        54884   \n",
       "..         ...            ...         ...   \n",
       "72          72    Whittlesea       236539   \n",
       "73          73       Wodonga        42662   \n",
       "74          74       Wyndham       283294   \n",
       "75          75         Yarra       103125   \n",
       "76          76  Yarra Ranges       159955   \n",
       "\n",
       "    People aged 65 years and over(perc)  reaction time(second)  \\\n",
       "0                                  24.0                   1495   \n",
       "1                                  17.3                   1301   \n",
       "2                                  18.0                   1337   \n",
       "3                                  28.0                   1619   \n",
       "4                                  19.9                   1455   \n",
       "..                                  ...                    ...   \n",
       "72                                 12.1                   1366   \n",
       "73                                 15.8                   1380   \n",
       "74                                  8.0                   1277   \n",
       "75                                 11.3                   1356   \n",
       "76                                 16.6                   1202   \n",
       "\n",
       "    number of calls  unhealthy people(perc)  \n",
       "0               529               13.923627  \n",
       "1              4301               12.327907  \n",
       "2              3972               17.104570  \n",
       "3              1983               17.485811  \n",
       "4              2045               13.036240  \n",
       "..              ...                     ...  \n",
       "72             5835               22.555713  \n",
       "73             1561               12.108837  \n",
       "74             6012               17.536069  \n",
       "75             3445               14.492126  \n",
       "76             4719               14.438575  \n",
       "\n",
       "[77 rows x 7 columns]"
      ]
     },
     "execution_count": 35,
     "metadata": {},
     "output_type": "execute_result"
    }
   ],
   "source": [
    "data4 = pd.read_csv(\"4.csv\")\n",
    "data4"
   ]
  },
  {
   "cell_type": "code",
   "execution_count": 36,
   "metadata": {},
   "outputs": [
    {
     "data": {
      "text/plain": [
       "[42.4]"
      ]
     },
     "execution_count": 36,
     "metadata": {},
     "output_type": "execute_result"
    }
   ],
   "source": [
    "outlier(data4[\"People aged 65 years and over(perc)\"])\n"
   ]
  },
  {
   "cell_type": "code",
   "execution_count": 37,
   "metadata": {},
   "outputs": [
    {
     "data": {
      "text/plain": [
       "[29.26349295]"
      ]
     },
     "execution_count": 37,
     "metadata": {},
     "output_type": "execute_result"
    }
   ],
   "source": [
    "outlier(data4[\"unhealthy people(perc)\"])"
   ]
  },
  {
   "cell_type": "code",
   "execution_count": 38,
   "metadata": {},
   "outputs": [],
   "source": [
    "people_more_than_65 = []\n",
    "unhealthy = []\n",
    "i = 0\n",
    "while i < 77:\n",
    "    people_more_than_65.append(int(data4[\"People aged 65 years and over(perc)\"][i]*data4[\"Population\"][i]/100))\n",
    "    unhealthy.append(int((data4[\"unhealthy people(perc)\"][i]*data4[\"Population\"][i]/100)))\n",
    "    i = i + 1"
   ]
  },
  {
   "cell_type": "code",
   "execution_count": 39,
   "metadata": {},
   "outputs": [],
   "source": [
    "from scipy import stats"
   ]
  },
  {
   "cell_type": "code",
   "execution_count": 40,
   "metadata": {},
   "outputs": [],
   "source": [
    "slope, intercept, r_value, p_value, std_err = stats.linregress(total_number, people_more_than_65)"
   ]
  },
  {
   "cell_type": "code",
   "execution_count": 41,
   "metadata": {},
   "outputs": [],
   "source": [
    "def myfunc(x):\n",
    "    return slope * x + intercept\n",
    "\n",
    "mymodel = list(map(myfunc, total_number))"
   ]
  },
  {
   "cell_type": "code",
   "execution_count": 44,
   "metadata": {},
   "outputs": [
    {
     "name": "stdout",
     "output_type": "stream",
     "text": [
      "4.170067797605497\n",
      "2081.575953651589\n",
      "0.7858659358224345\n"
     ]
    },
    {
     "data": {
      "image/png": "[encoded data removed]",
      "text/plain": [
       "<Figure size 432x288 with 1 Axes>"
      ]
     },
     "metadata": {
      "needs_background": "light"
     },
     "output_type": "display_data"
    }
   ],
   "source": [
    "\n",
    "plt.title('scatterplot1',fontsize = 10)\n",
    "plt.xlabel(\"total_number of calls\")\n",
    "plt.ylabel(\"people_more_than_65_years_old\")\n",
    "plt.scatter(total_number, people_more_than_65)\n",
    "plt.plot(total_number, mymodel)\n",
    "plt.savefig(\"plot1.png\")\n",
    "\n",
    "print(slope)\n",
    "print(intercept)\n",
    "print(r_value**2)\n"
   ]
  },
  {
   "cell_type": "code",
   "execution_count": 47,
   "metadata": {},
   "outputs": [
    {
     "data": {
      "image/png": "[encoded data removed]",
      "text/plain": [
       "<Figure size 432x288 with 1 Axes>"
      ]
     },
     "metadata": {
      "needs_background": "light"
     },
     "output_type": "display_data"
    }
   ],
   "source": [
    "plt.title('scatterplot2',fontsize = 10)\n",
    "plt.xlabel(\"total_number of calls\")\n",
    "plt.ylabel(\"unhealthy people number\")\n",
    "plt.scatter(total_number, unhealthy)\n",
    "plt.plot(total_number, mymodel)\n",
    "plt.savefig(\"plot2.png\")\n"
   ]
  },
  {
   "cell_type": "code",
   "execution_count": 48,
   "metadata": {},
   "outputs": [
    {
     "name": "stdout",
     "output_type": "stream",
     "text": [
      "5.765610283085431\n",
      "-2064.457292215042\n",
      "0.8162789054899288\n"
     ]
    }
   ],
   "source": [
    "slope, intercept, r_value, p_value, std_err = stats.linregress(total_number, unhealthy)\n",
    "\n",
    "print(slope)\n",
    "print(intercept)\n",
    "print(r_value**2)"
   ]
  },
  {
   "cell_type": "code",
   "execution_count": null,
   "metadata": {},
   "outputs": [],
   "source": [
    "def polyfit(x, y, degree):\n",
    "    results = {}\n",
    "\n",
    "    coeffs = numpy.polyfit(x, y, degree)\n",
    "     # Polynomial Coefficients\n",
    "    results['polynomial'] = coeffs.tolist()\n",
    "\n",
    "    correlation = numpy.corrcoef(x, y)[0,1]\n",
    "\n",
    "     # r\n",
    "    results['correlation'] = correlation\n",
    "     # r-squared\n",
    "    results['determination'] = correlation**2\n",
    "\n",
    "    return results"
   ]
  },
  {
   "cell_type": "code",
   "execution_count": null,
   "metadata": {},
   "outputs": [],
   "source": [
    "nc = pd.read_csv('')\n",
    "pol = polyfit(nc,)"
   ]
  },
  {
   "cell_type": "code",
   "execution_count": null,
   "metadata": {},
   "outputs": [
    {
     "data": {
      "text/plain": [
       "[3665]"
      ]
     },
     "execution_count": 23,
     "metadata": {},
     "output_type": "execute_result"
    }
   ],
   "source": [
    "outlier(data4[\"reaction time(second)\"])"
   ]
  },
  {
   "cell_type": "code",
   "execution_count": null,
   "metadata": {},
   "outputs": [
    {
     "data": {
      "image/png": "[encoded data removed]",
      "text/plain": [
       "<Figure size 432x288 with 1 Axes>"
      ]
     },
     "metadata": {
      "needs_background": "light"
     },
     "output_type": "display_data"
    },
    {
     "data": {
      "image/png": "[encoded data removed]",
      "text/plain": [
       "<Figure size 864x1008 with 1 Axes>"
      ]
     },
     "metadata": {
      "needs_background": "light"
     },
     "output_type": "display_data"
    }
   ],
   "source": [
    "plt.title('Population',fontsize = 10)\n",
    "y = data4[\"Population\"]\n",
    "x = data4[\"Area name\"]\n",
    "plt.figure(figsize=(12,14))\n",
    "plt.xlabel(\"Population\")\n",
    "plt.ylabel(\"Area name\")\n",
    "plt.barh(x , y)\n",
    "plt.savefig(\"bar chart\")"
   ]
  },
  {
   "cell_type": "code",
   "execution_count": null,
   "metadata": {},
   "outputs": [
    {
     "data": {
      "image/png": "[encoded data removed]",
      "text/plain": [
       "<Figure size 432x288 with 1 Axes>"
      ]
     },
     "metadata": {
      "needs_background": "light"
     },
     "output_type": "display_data"
    }
   ],
   "source": [
    "box_plot = data4[\"reaction time(second)\"]\n",
    "plt.title('boxplot of reaction time(second)',fontsize = 20)\n",
    "plt.xlabel(\"reaction time(second)\")\n",
    "plt.boxplot([box_plot], whis= 1.5,notch = True)\n",
    "plt.savefig(\"boxplot.png\")"
   ]
  },
  {
   "cell_type": "code",
   "execution_count": null,
   "metadata": {},
   "outputs": [],
   "source": [
    "import pandas as pd\n",
    "import matplotlib.pyplot as plt\n",
    "import numpy as np"
   ]
  },
  {
   "cell_type": "code",
   "execution_count": null,
   "metadata": {},
   "outputs": [
    {
     "data": {
      "image/png": "[encoded data removed]",
      "text/plain": [
       "<Figure size 576x432 with 2 Axes>"
      ]
     },
     "metadata": {
      "needs_background": "light"
     },
     "output_type": "display_data"
    }
   ],
   "source": [
    "def draw_heat_map_two():\n",
    "    data = pd.read_csv('./4.csv', encoding='utf-8', index_col=0)\n",
    "    data = data[['reaction time(second)','number of calls']]\n",
    "    data_corr = data.pct_change().corr()\n",
    "\n",
    "    values = data_corr.values\n",
    "    fig = plt.figure(figsize=(8,6))\n",
    "    ax = fig.add_subplot(111)\n",
    "    heatmap = ax.pcolor(values, cmap=plt.cm.bwr)\n",
    "\n",
    "    fig.colorbar(heatmap)\n",
    "\n",
    "    ax.set_xticks(np.arange(0.5, data_corr.shape[1]+0.5, 1))\n",
    "    ax.set_yticks(np.arange(0.5, data_corr.shape[0]+0.5, 1))\n",
    "    ax.invert_yaxis()\n",
    "    ax.xaxis.tick_top()\n",
    "\n",
    "    ax.set_xticklabels(data_corr.columns)\n",
    "    ax.set_yticklabels(data_corr.columns)\n",
    "\n",
    "    heatmap.set_clim(-1, 1)\n",
    "\n",
    "    plt.tight_layout()\n",
    "\n",
    "    plt.show()\n",
    "\n",
    "if __name__ == '__main__':\n",
    "    draw_heat_map_two()"
   ]
  },
  {
   "cell_type": "code",
   "execution_count": null,
   "metadata": {},
   "outputs": [
    {
     "data": {
      "image/png": "[encoded data removed]",
      "text/plain": [
       "<Figure size 576x432 with 2 Axes>"
      ]
     },
     "metadata": {
      "needs_background": "light"
     },
     "output_type": "display_data"
    }
   ],
   "source": [
    "def draw_heat_map():\n",
    "    data = pd.read_csv('./4.csv', encoding='utf-8', index_col=0)\n",
    "    data = data.drop('Area name',axis=1)\n",
    "    data_corr = data.pct_change().corr()\n",
    "\n",
    "    values = data_corr.values\n",
    "    fig = plt.figure(figsize=(8,6))\n",
    "    ax = fig.add_subplot(111)\n",
    "    heatmap = ax.pcolor(values, cmap=plt.cm.bwr)\n",
    "\n",
    "    fig.colorbar(heatmap)\n",
    "\n",
    "    ax.set_xticks(np.arange(0.5, data_corr.shape[1]+0.5, 1))\n",
    "    ax.set_yticks(np.arange(0.5, data_corr.shape[0]+0.5, 1))\n",
    "    ax.invert_yaxis()\n",
    "    ax.xaxis.tick_top()\n",
    "\n",
    "    ax.set_xticklabels(data_corr.columns)\n",
    "    ax.set_yticklabels(data_corr.columns)\n",
    "\n",
    "    heatmap.set_clim(-1, 1)\n",
    "    plt.xticks(rotation=90)\n",
    "    plt.tight_layout()\n",
    "\n",
    "    plt.savefig('./heatmap.png') \n",
    "    plt.show()\n",
    "\n",
    "\n",
    "if __name__ == '__main__':\n",
    "    draw_heat_map()\n"
   ]
  },
  {
   "cell_type": "code",
   "execution_count": null,
   "metadata": {},
   "outputs": [],
   "source": []
  }
 ],
 "metadata": {
  "interpreter": {
   "hash": "247ab06e135bb35fa78c5eff31b2a9a0050dcb5fb773c2631d2a29ac689eeccb"
  },
  "kernelspec": {
   "display_name": "Python 3.9.7 64-bit",
   "name": "python3"
  },
  "language_info": {
   "codemirror_mode": {
    "name": "ipython",
    "version": 3
   },
   "file_extension": ".py",
   "mimetype": "text/x-python",
   "name": "python",
   "nbconvert_exporter": "python",
   "pygments_lexer": "ipython3",
   "version": "3.9.7"
  },
  "orig_nbformat": 4
 },
 "nbformat": 4,
 "nbformat_minor": 2
}
